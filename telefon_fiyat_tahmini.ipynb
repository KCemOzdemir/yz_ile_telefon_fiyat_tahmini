{
  "nbformat": 4,
  "nbformat_minor": 0,
  "metadata": {
    "colab": {
      "name": "telefon_fiyat_tahmini.ipynb",
      "provenance": [],
      "collapsed_sections": []
    },
    "kernelspec": {
      "name": "python3",
      "display_name": "Python 3"
    },
    "language_info": {
      "name": "python"
    },
    "accelerator": "GPU"
  },
  "cells": [
    {
      "cell_type": "markdown",
      "metadata": {
        "id": "onnWE4n5yBDt"
      },
      "source": [
        "# **YZ ile Telefon Fiyat Tahmini Uygulaması**\n",
        "\n",
        "- Bu çalışma Logistic Regression ile kurgulanmıştır.\n",
        "- Logistic Regression sırasıyla **Yapay Zeka > Makine Öğrenmesi > Gözetimli Öğrenme**'nin alt dallarından birisidir.\n",
        "\n",
        "  - Logistic Regression ile daha detaylı bilgiler için aşağıdaki linke bakabilirsiniz\n",
        "    - https://en.wikipedia.org/wiki/Logistic_regression\n",
        "\n",
        "- Çalışmada Abhishek Sharma'nın \"Mobile Price Classification\" isimli data seti kullanılmıştır ve çalışma Google Colab üzerinden kurgulanmıştır.\n",
        "\n",
        "- Çalışmada aşağıdaki kütüphaneler ve OS kullanılmıştır.\n",
        "  - Python 3.7.10\n",
        "  - NumPy  1.19.5\n",
        "  - Pandas 1.1.5\n",
        "  - OS Linux-4.19.112+-x86_64-with-Ubuntu-18.04-bionic\n",
        "  - MatPlotLib 3.2.2\n",
        "  - Seaborn 0.11.1\n",
        "  - Sklearn 0.22.2.post1\n",
        "\n",
        "- Çalışmada kullanılan adımlar sırasıyla\n",
        "  1. Veri setini okunması ve gerekli kütüphanelerin implementasyonu.\n",
        "  2. Veri setini analiz etme.\n",
        "    - Veri Seti Analizi\n",
        "    - Keşifsel Veri Analizi (Exploratory Data Analysis - EDA)\n",
        "    - Veri Görselleştirme\n",
        "  3. Veri Ön İşleme\n",
        "  4. İlgili Modelin Oluşturulması ve Tahminleme\n",
        "  5. Yorumlar ve Öneriler.\n",
        "\n",
        "- Anlaşılmayan herhangi bir yer olursa kcemozdemir@gmail.com ile iletişime geçebilirsiniz."
      ]
    },
    {
      "cell_type": "markdown",
      "metadata": {
        "id": "ouVUWZLggKtq"
      },
      "source": [
        "# **1-) Veri seti okuma ve gerekli kütüphaneleri implement etme**"
      ]
    },
    {
      "cell_type": "code",
      "metadata": {
        "colab": {
          "base_uri": "https://localhost:8080/"
        },
        "id": "ec1FSqeDgZ-t",
        "outputId": "cee3cd09-95a5-4bc9-aa2d-a3d0210b2a29"
      },
      "source": [
        "#Öncelikle GDrive'da mobilephones isimli bir klasör açıyoruz ve veri setimizi bu klasöre atıyoruz\n",
        "#Daha sonra google colab'ı gdrive'a bağlıyoruz\n",
        "#Sonrasında veri setimizin bulunduğu pathe geçiş yapıyoruz\n",
        "\n",
        "#Eğer Colab kullanmıyorsanız os.chdir ile veri setinin yolunu işaretleyiniz\n",
        "\n",
        "import os\n",
        "os.chdir('/content/drive/MyDrive/mobilephones')\n",
        "!pwd\n"
      ],
      "execution_count": 61,
      "outputs": [
        {
          "output_type": "stream",
          "text": [
            "/content/drive/MyDrive/mobilephones\n"
          ],
          "name": "stdout"
        }
      ]
    },
    {
      "cell_type": "code",
      "metadata": {
        "id": "uSc5Zcflk-Tu"
      },
      "source": [
        "#Kullanacağımız kütüphaneleri ekliyoruz\n",
        "import numpy as np\n",
        "import pandas as pd\n",
        "from matplotlib import pyplot as plt\n",
        "import seaborn as sns\n",
        "import warnings\n",
        "warnings.filterwarnings(\"ignore\")"
      ],
      "execution_count": 62,
      "outputs": []
    },
    {
      "cell_type": "code",
      "metadata": {
        "colab": {
          "base_uri": "https://localhost:8080/",
          "height": 156
        },
        "id": "W2Z79-nml5aV",
        "outputId": "6790ca9a-c3f3-45bc-ccbd-5f2e6fc5135a"
      },
      "source": [
        "#Kullanacağımız veri seti CSV (Comma Separated Values) türünde olduğu için Pandas altında özelleşmiş csv reader ile veri setimizi okuyuoruz ve ilk 3 veriyi ekrana basıyoruz.\n",
        "train = pd.read_csv('/content/drive/MyDrive/mobilephones/train.csv')\n",
        "test = pd.read_csv('/content/drive/MyDrive/mobilephones/train.csv')\n",
        "train.head(3)      #veri sınırları içerisinde görmek istediğiniz kadar veriye bakabilirsiniz dtype : int"
      ],
      "execution_count": 63,
      "outputs": [
        {
          "output_type": "execute_result",
          "data": {
            "text/html": [
              "<div>\n",
              "<style scoped>\n",
              "    .dataframe tbody tr th:only-of-type {\n",
              "        vertical-align: middle;\n",
              "    }\n",
              "\n",
              "    .dataframe tbody tr th {\n",
              "        vertical-align: top;\n",
              "    }\n",
              "\n",
              "    .dataframe thead th {\n",
              "        text-align: right;\n",
              "    }\n",
              "</style>\n",
              "<table border=\"1\" class=\"dataframe\">\n",
              "  <thead>\n",
              "    <tr style=\"text-align: right;\">\n",
              "      <th></th>\n",
              "      <th>battery_power</th>\n",
              "      <th>blue</th>\n",
              "      <th>clock_speed</th>\n",
              "      <th>dual_sim</th>\n",
              "      <th>fc</th>\n",
              "      <th>four_g</th>\n",
              "      <th>int_memory</th>\n",
              "      <th>m_dep</th>\n",
              "      <th>mobile_wt</th>\n",
              "      <th>n_cores</th>\n",
              "      <th>pc</th>\n",
              "      <th>px_height</th>\n",
              "      <th>px_width</th>\n",
              "      <th>ram</th>\n",
              "      <th>sc_h</th>\n",
              "      <th>sc_w</th>\n",
              "      <th>talk_time</th>\n",
              "      <th>three_g</th>\n",
              "      <th>touch_screen</th>\n",
              "      <th>wifi</th>\n",
              "      <th>price_range</th>\n",
              "    </tr>\n",
              "  </thead>\n",
              "  <tbody>\n",
              "    <tr>\n",
              "      <th>0</th>\n",
              "      <td>842</td>\n",
              "      <td>0</td>\n",
              "      <td>2.2</td>\n",
              "      <td>0</td>\n",
              "      <td>1</td>\n",
              "      <td>0</td>\n",
              "      <td>7</td>\n",
              "      <td>0.6</td>\n",
              "      <td>188</td>\n",
              "      <td>2</td>\n",
              "      <td>2</td>\n",
              "      <td>20</td>\n",
              "      <td>756</td>\n",
              "      <td>2549</td>\n",
              "      <td>9</td>\n",
              "      <td>7</td>\n",
              "      <td>19</td>\n",
              "      <td>0</td>\n",
              "      <td>0</td>\n",
              "      <td>1</td>\n",
              "      <td>1</td>\n",
              "    </tr>\n",
              "    <tr>\n",
              "      <th>1</th>\n",
              "      <td>1021</td>\n",
              "      <td>1</td>\n",
              "      <td>0.5</td>\n",
              "      <td>1</td>\n",
              "      <td>0</td>\n",
              "      <td>1</td>\n",
              "      <td>53</td>\n",
              "      <td>0.7</td>\n",
              "      <td>136</td>\n",
              "      <td>3</td>\n",
              "      <td>6</td>\n",
              "      <td>905</td>\n",
              "      <td>1988</td>\n",
              "      <td>2631</td>\n",
              "      <td>17</td>\n",
              "      <td>3</td>\n",
              "      <td>7</td>\n",
              "      <td>1</td>\n",
              "      <td>1</td>\n",
              "      <td>0</td>\n",
              "      <td>2</td>\n",
              "    </tr>\n",
              "    <tr>\n",
              "      <th>2</th>\n",
              "      <td>563</td>\n",
              "      <td>1</td>\n",
              "      <td>0.5</td>\n",
              "      <td>1</td>\n",
              "      <td>2</td>\n",
              "      <td>1</td>\n",
              "      <td>41</td>\n",
              "      <td>0.9</td>\n",
              "      <td>145</td>\n",
              "      <td>5</td>\n",
              "      <td>6</td>\n",
              "      <td>1263</td>\n",
              "      <td>1716</td>\n",
              "      <td>2603</td>\n",
              "      <td>11</td>\n",
              "      <td>2</td>\n",
              "      <td>9</td>\n",
              "      <td>1</td>\n",
              "      <td>1</td>\n",
              "      <td>0</td>\n",
              "      <td>2</td>\n",
              "    </tr>\n",
              "  </tbody>\n",
              "</table>\n",
              "</div>"
            ],
            "text/plain": [
              "   battery_power  blue  clock_speed  ...  touch_screen  wifi  price_range\n",
              "0            842     0          2.2  ...             0     1            1\n",
              "1           1021     1          0.5  ...             1     0            2\n",
              "2            563     1          0.5  ...             1     0            2\n",
              "\n",
              "[3 rows x 21 columns]"
            ]
          },
          "metadata": {
            "tags": []
          },
          "execution_count": 63
        }
      ]
    },
    {
      "cell_type": "markdown",
      "metadata": {
        "id": "yqwAPPXCnvl2"
      },
      "source": [
        "# **2-) Veri Setini Analiz Etme**"
      ]
    },
    {
      "cell_type": "code",
      "metadata": {
        "colab": {
          "base_uri": "https://localhost:8080/",
          "height": 422
        },
        "id": "apGwmf4fpGZt",
        "outputId": "fac5a73b-4758-4599-c9c6-56f3b9c1ab40"
      },
      "source": [
        "#Eğitim verimizde herhangi eksik değer (missing value) var mı teyit ediyoruz.\n",
        "train.isnull()\n",
        "sns.heatmap(train.isnull())"
      ],
      "execution_count": 64,
      "outputs": [
        {
          "output_type": "execute_result",
          "data": {
            "text/plain": [
              "<matplotlib.axes._subplots.AxesSubplot at 0x7f82650fba90>"
            ]
          },
          "metadata": {
            "tags": []
          },
          "execution_count": 64
        },
        {
          "output_type": "display_data",
          "data": {
            "image/png": "[encoded data removed]",
            "text/plain": [
              "<Figure size 576x396 with 2 Axes>"
            ]
          },
          "metadata": {
            "tags": []
          }
        }
      ]
    },
    {
      "cell_type": "code",
      "metadata": {
        "colab": {
          "base_uri": "https://localhost:8080/"
        },
        "id": "Y2JG8LAln33F",
        "outputId": "6d8819d5-9d36-4a05-ad08-e9e4fc33d98f"
      },
      "source": [
        "#Eğitim kümemizi dtypes, kayıpdeğer ve kullanılan hafıza miktarı olarak inceliyoruz.\n",
        "train.info()"
      ],
      "execution_count": 65,
      "outputs": [
        {
          "output_type": "stream",
          "text": [
            "<class 'pandas.core.frame.DataFrame'>\n",
            "RangeIndex: 2000 entries, 0 to 1999\n",
            "Data columns (total 21 columns):\n",
            " #   Column         Non-Null Count  Dtype  \n",
            "---  ------         --------------  -----  \n",
            " 0   battery_power  2000 non-null   int64  \n",
            " 1   blue           2000 non-null   int64  \n",
            " 2   clock_speed    2000 non-null   float64\n",
            " 3   dual_sim       2000 non-null   int64  \n",
            " 4   fc             2000 non-null   int64  \n",
            " 5   four_g         2000 non-null   int64  \n",
            " 6   int_memory     2000 non-null   int64  \n",
            " 7   m_dep          2000 non-null   float64\n",
            " 8   mobile_wt      2000 non-null   int64  \n",
            " 9   n_cores        2000 non-null   int64  \n",
            " 10  pc             2000 non-null   int64  \n",
            " 11  px_height      2000 non-null   int64  \n",
            " 12  px_width       2000 non-null   int64  \n",
            " 13  ram            2000 non-null   int64  \n",
            " 14  sc_h           2000 non-null   int64  \n",
            " 15  sc_w           2000 non-null   int64  \n",
            " 16  talk_time      2000 non-null   int64  \n",
            " 17  three_g        2000 non-null   int64  \n",
            " 18  touch_screen   2000 non-null   int64  \n",
            " 19  wifi           2000 non-null   int64  \n",
            " 20  price_range    2000 non-null   int64  \n",
            "dtypes: float64(2), int64(19)\n",
            "memory usage: 328.2 KB\n"
          ],
          "name": "stdout"
        }
      ]
    },
    {
      "cell_type": "code",
      "metadata": {
        "colab": {
          "base_uri": "https://localhost:8080/",
          "height": 669
        },
        "id": "B_3ok_c3p9gG",
        "outputId": "31f483df-b6ca-47ee-a15c-c4bd1a8df89e"
      },
      "source": [
        "#İstatistiksel olarak eğitim kümemize bakıyoruz.\n",
        "np.transpose(train.describe())\n",
        "\n",
        "#count : ilgili alan ile ilgili kaç tane veri var\n",
        "#mean : ortalama\n",
        "#std : standart sapma\n",
        "#min,max,%X : ilgili alandaki en küçük, en büyük ve yüzdesel karşılıklar."
      ],
      "execution_count": 66,
      "outputs": [
        {
          "output_type": "execute_result",
          "data": {
            "text/html": [
              "<div>\n",
              "<style scoped>\n",
              "    .dataframe tbody tr th:only-of-type {\n",
              "        vertical-align: middle;\n",
              "    }\n",
              "\n",
              "    .dataframe tbody tr th {\n",
              "        vertical-align: top;\n",
              "    }\n",
              "\n",
              "    .dataframe thead th {\n",
              "        text-align: right;\n",
              "    }\n",
              "</style>\n",
              "<table border=\"1\" class=\"dataframe\">\n",
              "  <thead>\n",
              "    <tr style=\"text-align: right;\">\n",
              "      <th></th>\n",
              "      <th>count</th>\n",
              "      <th>mean</th>\n",
              "      <th>std</th>\n",
              "      <th>min</th>\n",
              "      <th>25%</th>\n",
              "      <th>50%</th>\n",
              "      <th>75%</th>\n",
              "      <th>max</th>\n",
              "    </tr>\n",
              "  </thead>\n",
              "  <tbody>\n",
              "    <tr>\n",
              "      <th>battery_power</th>\n",
              "      <td>2000.0</td>\n",
              "      <td>1238.51850</td>\n",
              "      <td>439.418206</td>\n",
              "      <td>501.0</td>\n",
              "      <td>851.75</td>\n",
              "      <td>1226.0</td>\n",
              "      <td>1615.25</td>\n",
              "      <td>1998.0</td>\n",
              "    </tr>\n",
              "    <tr>\n",
              "      <th>blue</th>\n",
              "      <td>2000.0</td>\n",
              "      <td>0.49500</td>\n",
              "      <td>0.500100</td>\n",
              "      <td>0.0</td>\n",
              "      <td>0.00</td>\n",
              "      <td>0.0</td>\n",
              "      <td>1.00</td>\n",
              "      <td>1.0</td>\n",
              "    </tr>\n",
              "    <tr>\n",
              "      <th>clock_speed</th>\n",
              "      <td>2000.0</td>\n",
              "      <td>1.52225</td>\n",
              "      <td>0.816004</td>\n",
              "      <td>0.5</td>\n",
              "      <td>0.70</td>\n",
              "      <td>1.5</td>\n",
              "      <td>2.20</td>\n",
              "      <td>3.0</td>\n",
              "    </tr>\n",
              "    <tr>\n",
              "      <th>dual_sim</th>\n",
              "      <td>2000.0</td>\n",
              "      <td>0.50950</td>\n",
              "      <td>0.500035</td>\n",
              "      <td>0.0</td>\n",
              "      <td>0.00</td>\n",
              "      <td>1.0</td>\n",
              "      <td>1.00</td>\n",
              "      <td>1.0</td>\n",
              "    </tr>\n",
              "    <tr>\n",
              "      <th>fc</th>\n",
              "      <td>2000.0</td>\n",
              "      <td>4.30950</td>\n",
              "      <td>4.341444</td>\n",
              "      <td>0.0</td>\n",
              "      <td>1.00</td>\n",
              "      <td>3.0</td>\n",
              "      <td>7.00</td>\n",
              "      <td>19.0</td>\n",
              "    </tr>\n",
              "    <tr>\n",
              "      <th>four_g</th>\n",
              "      <td>2000.0</td>\n",
              "      <td>0.52150</td>\n",
              "      <td>0.499662</td>\n",
              "      <td>0.0</td>\n",
              "      <td>0.00</td>\n",
              "      <td>1.0</td>\n",
              "      <td>1.00</td>\n",
              "      <td>1.0</td>\n",
              "    </tr>\n",
              "    <tr>\n",
              "      <th>int_memory</th>\n",
              "      <td>2000.0</td>\n",
              "      <td>32.04650</td>\n",
              "      <td>18.145715</td>\n",
              "      <td>2.0</td>\n",
              "      <td>16.00</td>\n",
              "      <td>32.0</td>\n",
              "      <td>48.00</td>\n",
              "      <td>64.0</td>\n",
              "    </tr>\n",
              "    <tr>\n",
              "      <th>m_dep</th>\n",
              "      <td>2000.0</td>\n",
              "      <td>0.50175</td>\n",
              "      <td>0.288416</td>\n",
              "      <td>0.1</td>\n",
              "      <td>0.20</td>\n",
              "      <td>0.5</td>\n",
              "      <td>0.80</td>\n",
              "      <td>1.0</td>\n",
              "    </tr>\n",
              "    <tr>\n",
              "      <th>mobile_wt</th>\n",
              "      <td>2000.0</td>\n",
              "      <td>140.24900</td>\n",
              "      <td>35.399655</td>\n",
              "      <td>80.0</td>\n",
              "      <td>109.00</td>\n",
              "      <td>141.0</td>\n",
              "      <td>170.00</td>\n",
              "      <td>200.0</td>\n",
              "    </tr>\n",
              "    <tr>\n",
              "      <th>n_cores</th>\n",
              "      <td>2000.0</td>\n",
              "      <td>4.52050</td>\n",
              "      <td>2.287837</td>\n",
              "      <td>1.0</td>\n",
              "      <td>3.00</td>\n",
              "      <td>4.0</td>\n",
              "      <td>7.00</td>\n",
              "      <td>8.0</td>\n",
              "    </tr>\n",
              "    <tr>\n",
              "      <th>pc</th>\n",
              "      <td>2000.0</td>\n",
              "      <td>9.91650</td>\n",
              "      <td>6.064315</td>\n",
              "      <td>0.0</td>\n",
              "      <td>5.00</td>\n",
              "      <td>10.0</td>\n",
              "      <td>15.00</td>\n",
              "      <td>20.0</td>\n",
              "    </tr>\n",
              "    <tr>\n",
              "      <th>px_height</th>\n",
              "      <td>2000.0</td>\n",
              "      <td>645.10800</td>\n",
              "      <td>443.780811</td>\n",
              "      <td>0.0</td>\n",
              "      <td>282.75</td>\n",
              "      <td>564.0</td>\n",
              "      <td>947.25</td>\n",
              "      <td>1960.0</td>\n",
              "    </tr>\n",
              "    <tr>\n",
              "      <th>px_width</th>\n",
              "      <td>2000.0</td>\n",
              "      <td>1251.51550</td>\n",
              "      <td>432.199447</td>\n",
              "      <td>500.0</td>\n",
              "      <td>874.75</td>\n",
              "      <td>1247.0</td>\n",
              "      <td>1633.00</td>\n",
              "      <td>1998.0</td>\n",
              "    </tr>\n",
              "    <tr>\n",
              "      <th>ram</th>\n",
              "      <td>2000.0</td>\n",
              "      <td>2124.21300</td>\n",
              "      <td>1084.732044</td>\n",
              "      <td>256.0</td>\n",
              "      <td>1207.50</td>\n",
              "      <td>2146.5</td>\n",
              "      <td>3064.50</td>\n",
              "      <td>3998.0</td>\n",
              "    </tr>\n",
              "    <tr>\n",
              "      <th>sc_h</th>\n",
              "      <td>2000.0</td>\n",
              "      <td>12.30650</td>\n",
              "      <td>4.213245</td>\n",
              "      <td>5.0</td>\n",
              "      <td>9.00</td>\n",
              "      <td>12.0</td>\n",
              "      <td>16.00</td>\n",
              "      <td>19.0</td>\n",
              "    </tr>\n",
              "    <tr>\n",
              "      <th>sc_w</th>\n",
              "      <td>2000.0</td>\n",
              "      <td>5.76700</td>\n",
              "      <td>4.356398</td>\n",
              "      <td>0.0</td>\n",
              "      <td>2.00</td>\n",
              "      <td>5.0</td>\n",
              "      <td>9.00</td>\n",
              "      <td>18.0</td>\n",
              "    </tr>\n",
              "    <tr>\n",
              "      <th>talk_time</th>\n",
              "      <td>2000.0</td>\n",
              "      <td>11.01100</td>\n",
              "      <td>5.463955</td>\n",
              "      <td>2.0</td>\n",
              "      <td>6.00</td>\n",
              "      <td>11.0</td>\n",
              "      <td>16.00</td>\n",
              "      <td>20.0</td>\n",
              "    </tr>\n",
              "    <tr>\n",
              "      <th>three_g</th>\n",
              "      <td>2000.0</td>\n",
              "      <td>0.76150</td>\n",
              "      <td>0.426273</td>\n",
              "      <td>0.0</td>\n",
              "      <td>1.00</td>\n",
              "      <td>1.0</td>\n",
              "      <td>1.00</td>\n",
              "      <td>1.0</td>\n",
              "    </tr>\n",
              "    <tr>\n",
              "      <th>touch_screen</th>\n",
              "      <td>2000.0</td>\n",
              "      <td>0.50300</td>\n",
              "      <td>0.500116</td>\n",
              "      <td>0.0</td>\n",
              "      <td>0.00</td>\n",
              "      <td>1.0</td>\n",
              "      <td>1.00</td>\n",
              "      <td>1.0</td>\n",
              "    </tr>\n",
              "    <tr>\n",
              "      <th>wifi</th>\n",
              "      <td>2000.0</td>\n",
              "      <td>0.50700</td>\n",
              "      <td>0.500076</td>\n",
              "      <td>0.0</td>\n",
              "      <td>0.00</td>\n",
              "      <td>1.0</td>\n",
              "      <td>1.00</td>\n",
              "      <td>1.0</td>\n",
              "    </tr>\n",
              "    <tr>\n",
              "      <th>price_range</th>\n",
              "      <td>2000.0</td>\n",
              "      <td>1.50000</td>\n",
              "      <td>1.118314</td>\n",
              "      <td>0.0</td>\n",
              "      <td>0.75</td>\n",
              "      <td>1.5</td>\n",
              "      <td>2.25</td>\n",
              "      <td>3.0</td>\n",
              "    </tr>\n",
              "  </tbody>\n",
              "</table>\n",
              "</div>"
            ],
            "text/plain": [
              "                count        mean          std  ...     50%      75%     max\n",
              "battery_power  2000.0  1238.51850   439.418206  ...  1226.0  1615.25  1998.0\n",
              "blue           2000.0     0.49500     0.500100  ...     0.0     1.00     1.0\n",
              "clock_speed    2000.0     1.52225     0.816004  ...     1.5     2.20     3.0\n",
              "dual_sim       2000.0     0.50950     0.500035  ...     1.0     1.00     1.0\n",
              "fc             2000.0     4.30950     4.341444  ...     3.0     7.00    19.0\n",
              "four_g         2000.0     0.52150     0.499662  ...     1.0     1.00     1.0\n",
              "int_memory     2000.0    32.04650    18.145715  ...    32.0    48.00    64.0\n",
              "m_dep          2000.0     0.50175     0.288416  ...     0.5     0.80     1.0\n",
              "mobile_wt      2000.0   140.24900    35.399655  ...   141.0   170.00   200.0\n",
              "n_cores        2000.0     4.52050     2.287837  ...     4.0     7.00     8.0\n",
              "pc             2000.0     9.91650     6.064315  ...    10.0    15.00    20.0\n",
              "px_height      2000.0   645.10800   443.780811  ...   564.0   947.25  1960.0\n",
              "px_width       2000.0  1251.51550   432.199447  ...  1247.0  1633.00  1998.0\n",
              "ram            2000.0  2124.21300  1084.732044  ...  2146.5  3064.50  3998.0\n",
              "sc_h           2000.0    12.30650     4.213245  ...    12.0    16.00    19.0\n",
              "sc_w           2000.0     5.76700     4.356398  ...     5.0     9.00    18.0\n",
              "talk_time      2000.0    11.01100     5.463955  ...    11.0    16.00    20.0\n",
              "three_g        2000.0     0.76150     0.426273  ...     1.0     1.00     1.0\n",
              "touch_screen   2000.0     0.50300     0.500116  ...     1.0     1.00     1.0\n",
              "wifi           2000.0     0.50700     0.500076  ...     1.0     1.00     1.0\n",
              "price_range    2000.0     1.50000     1.118314  ...     1.5     2.25     3.0\n",
              "\n",
              "[21 rows x 8 columns]"
            ]
          },
          "metadata": {
            "tags": []
          },
          "execution_count": 66
        }
      ]
    },
    {
      "cell_type": "code",
      "metadata": {
        "colab": {
          "base_uri": "https://localhost:8080/",
          "height": 378
        },
        "id": "Yxr7kkv_wfBM",
        "outputId": "2f1351da-f2df-4cca-96e2-efff6c84d1ee"
      },
      "source": [
        "sns.countplot(x=train['battery_power'])"
      ],
      "execution_count": 67,
      "outputs": [
        {
          "output_type": "execute_result",
          "data": {
            "text/plain": [
              "<matplotlib.axes._subplots.AxesSubplot at 0x7f8264637250>"
            ]
          },
          "metadata": {
            "tags": []
          },
          "execution_count": 67
        },
        {
          "output_type": "display_data",
          "data": {
            "image/png": "[encoded data removed]",
            "text/plain": [
              "<Figure size 576x396 with 1 Axes>"
            ]
          },
          "metadata": {
            "tags": []
          }
        }
      ]
    },
    {
      "cell_type": "code",
      "metadata": {
        "colab": {
          "base_uri": "https://localhost:8080/",
          "height": 378
        },
        "id": "94x9dDI9x_wl",
        "outputId": "9d647429-a774-40a1-8fdc-d1edef977c07"
      },
      "source": [
        "sns.countplot(x=train['price_range'])"
      ],
      "execution_count": 68,
      "outputs": [
        {
          "output_type": "execute_result",
          "data": {
            "text/plain": [
              "<matplotlib.axes._subplots.AxesSubplot at 0x7f82645bf290>"
            ]
          },
          "metadata": {
            "tags": []
          },
          "execution_count": 68
        },
        {
          "output_type": "display_data",
          "data": {
            "image/png": "[encoded data removed]",
            "text/plain": [
              "<Figure size 576x396 with 1 Axes>"
            ]
          },
          "metadata": {
            "tags": []
          }
        }
      ]
    },
    {
      "cell_type": "code",
      "metadata": {
        "colab": {
          "base_uri": "https://localhost:8080/",
          "height": 378
        },
        "id": "FDNn8zlByG_s",
        "outputId": "d9773f61-510c-4e89-eaa0-c8a27116aad2"
      },
      "source": [
        "sns.countplot(x=train['ram'])"
      ],
      "execution_count": 69,
      "outputs": [
        {
          "output_type": "execute_result",
          "data": {
            "text/plain": [
              "<matplotlib.axes._subplots.AxesSubplot at 0x7f8262c8a110>"
            ]
          },
          "metadata": {
            "tags": []
          },
          "execution_count": 69
        },
        {
          "output_type": "display_data",
          "data": {
            "image/png": "[encoded data removed]",
            "text/plain": [
              "<Figure size 576x396 with 1 Axes>"
            ]
          },
          "metadata": {
            "tags": []
          }
        }
      ]
    },
    {
      "cell_type": "code",
      "metadata": {
        "id": "wk6dSp4i18JU"
      },
      "source": [
        "segment_map = {0 : \"Ucuz - Giriş Segmenti\", 1 : \"Normal - Orta Segment\", 2 : \"Pahalı - Üst-Orta Segment\", 3 : \"Çok Pahalı - Üst Segment\"}\n",
        "train['price_range_mapped'] = train['price_range'].map(segment_map)"
      ],
      "execution_count": 70,
      "outputs": []
    },
    {
      "cell_type": "code",
      "metadata": {
        "colab": {
          "base_uri": "https://localhost:8080/",
          "height": 221
        },
        "id": "rJCcRpgv3HJe",
        "outputId": "c480af8c-852d-4a25-8e1b-ad399986f50d"
      },
      "source": [
        "grid = sns.FacetGrid(train, col=\"price_range\", hue=\"price_range_mapped\", palette=\"inferno\",height=3)\n",
        "grid.map(sns.distplot, \"clock_speed\").add_legend();"
      ],
      "execution_count": 71,
      "outputs": [
        {
          "output_type": "display_data",
          "data": {
            "image/png": "[encoded data removed]",
            "text/plain": [
              "<Figure size 1018x216 with 4 Axes>"
            ]
          },
          "metadata": {
            "tags": []
          }
        }
      ]
    },
    {
      "cell_type": "code",
      "metadata": {
        "colab": {
          "base_uri": "https://localhost:8080/",
          "height": 406
        },
        "id": "GrhWdjoq54ek",
        "outputId": "43d4130b-5a68-4f42-f465-83814aa2abf6"
      },
      "source": [
        "corr=train.corr()\n",
        "fig = plt.figure(figsize=(7,5))\n",
        "heatmap = sns.heatmap(corr, cmap='magma')\n",
        "heatmap.set_title(\"Korelasyon\")"
      ],
      "execution_count": 72,
      "outputs": [
        {
          "output_type": "execute_result",
          "data": {
            "text/plain": [
              "Text(0.5, 1.0, 'Korelasyon')"
            ]
          },
          "metadata": {
            "tags": []
          },
          "execution_count": 72
        },
        {
          "output_type": "display_data",
          "data": {
            "image/png": "[encoded data removed]",
            "text/plain": [
              "<Figure size 504x360 with 2 Axes>"
            ]
          },
          "metadata": {
            "tags": []
          }
        }
      ]
    },
    {
      "cell_type": "markdown",
      "metadata": {
        "id": "2CBwTk428j4b"
      },
      "source": [
        "# **3-) Veri Ön İşleme**"
      ]
    },
    {
      "cell_type": "code",
      "metadata": {
        "id": "fTedlvsZ8nmy"
      },
      "source": [
        "features = ['battery_power',\n",
        "            'blue',\n",
        "            'clock_speed',\n",
        "            'dual_sim',\n",
        "            'fc',\n",
        "            'four_g',\n",
        "            'int_memory',\n",
        "            'm_dep',\n",
        "            'mobile_wt',\n",
        "            'n_cores',\n",
        "            'pc',\n",
        "            'px_height',\n",
        "            'px_width',\n",
        "            'ram',\n",
        "            'sc_h',\n",
        "            'sc_w',\n",
        "            'talk_time',\n",
        "            'three_g',\n",
        "            'touch_screen',\n",
        "            'wifi']\n",
        "\n",
        "target = ['price_range']\n",
        "\n",
        "x = train[features].values\n",
        "y = train[target].values"
      ],
      "execution_count": 73,
      "outputs": []
    },
    {
      "cell_type": "code",
      "metadata": {
        "id": "GdC62o7q9aL6"
      },
      "source": [
        "from sklearn.model_selection import train_test_split\n",
        "\n",
        "X_train, X_test, y_train, y_test = train_test_split(x, y, test_size=0.5, random_state = 24)"
      ],
      "execution_count": 74,
      "outputs": []
    },
    {
      "cell_type": "code",
      "metadata": {
        "id": "32T5xnaP9k29"
      },
      "source": [
        "from sklearn.preprocessing import StandardScaler\n",
        "scaler = StandardScaler()\n",
        "X_train = scaler.fit_transform(X_train)\n",
        "X_test = scaler.transform(X_test)"
      ],
      "execution_count": 75,
      "outputs": []
    },
    {
      "cell_type": "markdown",
      "metadata": {
        "id": "S5j9lsQ8-B2s"
      },
      "source": [
        "# **4-) İlgili Modelin Oluşturulması ve Tahminleme**"
      ]
    },
    {
      "cell_type": "code",
      "metadata": {
        "colab": {
          "base_uri": "https://localhost:8080/"
        },
        "id": "Spzxzjsz-QW9",
        "outputId": "145f90f2-ab6b-45f1-9778-621445f606e8"
      },
      "source": [
        "from sklearn.linear_model import LogisticRegression\n",
        "from sklearn.metrics import confusion_matrix, accuracy_score, roc_auc_score, roc_curve\n",
        "from sklearn.metrics import precision_score, recall_score, f1_score\n",
        "from sklearn.metrics import classification_report\n",
        "\n",
        "lr = LogisticRegression()\n",
        "lr.fit(X_train, y_train)\n",
        "lr_predict = lr.predict(X_test)\n",
        "lr_conf_matrix = confusion_matrix(y_test, lr_predict)\n",
        "lr_acc_score = accuracy_score(y_test, lr_predict)\n",
        "\n",
        "print(\"Hata Matrisi\")\n",
        "print(lr_conf_matrix)\n",
        "print(\"-------------------------------------------\")\n",
        "print(\" \")\n",
        "print(\"Logistic Regressionun Doğruluk Skoru:\",lr_acc_score*100,'\\n')\n",
        "print(\"-------------------------------------------\")\n",
        "print(classification_report(y_test,lr_predict))"
      ],
      "execution_count": 79,
      "outputs": [
        {
          "output_type": "stream",
          "text": [
            "Hata Matrisi\n",
            "[[245   9   0   0]\n",
            " [  8 220   6   0]\n",
            " [  0  26 231   8]\n",
            " [  0   0   5 242]]\n",
            "-------------------------------------------\n",
            " \n",
            "Logistic Regressionun Doğruluk Skoru: 93.8 \n",
            "\n",
            "-------------------------------------------\n",
            "              precision    recall  f1-score   support\n",
            "\n",
            "           0       0.97      0.96      0.97       254\n",
            "           1       0.86      0.94      0.90       234\n",
            "           2       0.95      0.87      0.91       265\n",
            "           3       0.97      0.98      0.97       247\n",
            "\n",
            "    accuracy                           0.94      1000\n",
            "   macro avg       0.94      0.94      0.94      1000\n",
            "weighted avg       0.94      0.94      0.94      1000\n",
            "\n"
          ],
          "name": "stdout"
        }
      ]
    },
    {
      "cell_type": "code",
      "metadata": {
        "colab": {
          "base_uri": "https://localhost:8080/",
          "height": 373
        },
        "id": "eyWf9PWOCQTS",
        "outputId": "4de1a90b-bddf-476c-ffae-66b3651b27a8"
      },
      "source": [
        "from yellowbrick.classifier import ConfusionMatrix\n",
        "cm = ConfusionMatrix(\n",
        "    lr, classes=[0,1,2,3]\n",
        ")\n",
        "\n",
        "cm.fit(X_train, y_train)\n",
        "cm.score(X_test, y_test)\n",
        "\n",
        "cm.poof()"
      ],
      "execution_count": 78,
      "outputs": [
        {
          "output_type": "display_data",
          "data": {
            "image/png": "[encoded data removed]",
            "text/plain": [
              "<Figure size 576x396 with 1 Axes>"
            ]
          },
          "metadata": {
            "tags": []
          }
        }
      ]
    },
    {
      "cell_type": "markdown",
      "metadata": {
        "id": "U35YtmR2Kwkp"
      },
      "source": [
        "# **Yorumlar ve Öneriler**\n",
        "\n",
        "Veri seti küçük olduğu için deep learning tercih edilmemiştir.\n",
        "\n",
        "Yukarıdaki ilgili çıktılara bakıldığında Logistic Regression 93.8 doğruluk skoruyla tahminleme yapabilmektedir.\n",
        "\n",
        "Doğruluk Skorunu artırmak için daha seti bölütlerken (ayırırken, split ederken) kullanılan test_size düşürülebilir.\n",
        "\n",
        "Hata Matrisi incelendiğinde tahminlemede belli anomaliler vardır bunun sebebi özniteliklerin alt ve üst segmentteki cihazların özniteliklerine yakın olmasıdır.\n",
        "\n",
        "İnce ayarları yapıldığında %100 acc. yakalanabilir fakat modelin açıklanabilirliğini düşürür yani karmaşıklığını artırır.\n",
        "\n",
        "\n",
        "Herhangi bir soru ve/veya sorunda kcemozdemir@gmail.com ile iletişime geçebilirsiniz."
      ]
    }
  ]
}